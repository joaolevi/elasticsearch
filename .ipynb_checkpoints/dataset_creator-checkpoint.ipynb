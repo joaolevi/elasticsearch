{
 "cells": [
  {
   "cell_type": "code",
   "execution_count": null,
   "id": "e6f6e879-c89a-41da-bff0-1a0baf8adaad",
   "metadata": {},
   "outputs": [],
   "source": [
    "import pandas as pd\n",
    "import numpy as np"
   ]
  },
  {
   "cell_type": "code",
   "execution_count": null,
   "id": "4fe1fc54-0408-46e3-8161-eb52c956ad63",
   "metadata": {},
   "outputs": [],
   "source": [
    "df_products = pd.read_csv('data/brazilian-e-commerce-dataset/olist_products_dataset.csv')\n",
    "df_orders = pd.read_csv('data/brazilian-e-commerce-dataset/olist_orders_dataset.csv')\n",
    "df_reviews = pd.read_csv('data/brazilian-e-commerce-dataset/olist_order_reviews_dataset.csv')\n",
    "df_order_items = pd.read_csv('data/brazilian-e-commerce-dataset/olist_order_items_dataset.csv')\n",
    "df_customer = pd.read_csv('data/brazilian-e-commerce-dataset/olist_customers_dataset.csv')"
   ]
  },
  {
   "cell_type": "code",
   "execution_count": null,
   "id": "d1851bee-8cbe-40c1-b997-3deb1122319c",
   "metadata": {},
   "outputs": [],
   "source": [
    "df_final = df_orders.join(df_customer.set_index(\"customer_id\"), on=\"customer_id\")"
   ]
  },
  {
   "cell_type": "code",
   "execution_count": null,
   "id": "ee0f88c7-a2ca-412c-86c5-05c8553e2eb5",
   "metadata": {},
   "outputs": [],
   "source": [
    "df_final = df_final.join(df_reviews.set_index(\"order_id\"), on=\"order_id\")"
   ]
  },
  {
   "cell_type": "code",
   "execution_count": null,
   "id": "66a75f2e-d4ae-48bb-8c25-612f986b4c6e",
   "metadata": {},
   "outputs": [],
   "source": [
    "df_final = df_final.join(df_order_items.set_index(\"order_id\"), on=\"order_id\")"
   ]
  },
  {
   "cell_type": "code",
   "execution_count": null,
   "id": "35035599-868d-4710-b7e8-53a95037e4d9",
   "metadata": {},
   "outputs": [],
   "source": [
    "df_final = df_final.join(df_products.set_index(\"product_id\"), on=\"product_id\")"
   ]
  },
  {
   "cell_type": "code",
   "execution_count": null,
   "id": "3abb0fd0-055d-4019-9b92-9c9d53f6cf32",
   "metadata": {},
   "outputs": [],
   "source": [
    "df_final.fillna('', inplace=True)"
   ]
  },
  {
   "cell_type": "code",
   "execution_count": null,
   "id": "1e0069f2-1f11-48e7-8d53-1879cba641ba",
   "metadata": {},
   "outputs": [],
   "source": [
    "df_to_json = df_final.iloc[:20]\n",
    "# Preencher valores nulos com uma string vazia\n",
    "df_to_json = df_to_json.copy()\n",
    "df_to_json.fillna('', inplace=True)\n",
    "\n"
   ]
  },
  {
   "cell_type": "code",
   "execution_count": null,
   "id": "501ccd0d-a450-4317-b212-d4b9a4189163",
   "metadata": {},
   "outputs": [],
   "source": [
    "import json\n",
    "\n",
    "dict_list = df_to_json.to_dict(orient='records')\n",
    "\n",
    "# Salvando a lista de dicionários no formato adequado para o _bulk\n",
    "with open('data_bulk.json', 'w') as f:\n",
    "    for idx, item in enumerate(dict_list):\n",
    "        # Defina o _index e _id de acordo com o seu DataFrame\n",
    "        action = {\n",
    "            \"index\": {\n",
    "                \"_index\": \"salles\",  # Nome do índice\n",
    "                \"_id\": idx  # Use o índice como _id\n",
    "            }\n",
    "        }\n",
    "        f.write(json.dumps(action) + '\\n')\n",
    "        f.write(json.dumps(item) + '\\n')"
   ]
  },
  {
   "cell_type": "code",
   "execution_count": null,
   "id": "cfccabab-6fef-4525-b976-7e9c55a62713",
   "metadata": {},
   "outputs": [],
   "source": [
    "customers = {}\n",
    "\n",
    "# Iterar sobre cada linha do DataFrame\n",
    "for index, row in df_final.iterrows():\n",
    "    customer_id = row['customer_id']\n",
    "    order_id = row['order_id']\n",
    "    product_id = row['product_id']\n",
    "    review_id = row['review_id']\n",
    "    \n",
    "    # Se o cliente ainda não estiver na lista de clientes\n",
    "    if customer_id not in customers:\n",
    "        customers[customer_id] = {\n",
    "            \"customer_id\": customer_id,\n",
    "            \"customer_zip_code_prefix\": row[\"customer_zip_code_prefix\"], \n",
    "            \"customer_city\": row[\"customer_city\"],\n",
    "            \"customer_unique_id\": row[\"customer_unique_id\"],\n",
    "            \"state\": row[\"customer_state\"],\n",
    "            \"orders\": {}  # Alterado para um dicionário para mapear order_id para os detalhes do pedido\n",
    "        }\n",
    "    \n",
    "    # Se o pedido ainda não estiver na lista de pedidos do cliente\n",
    "    if order_id not in customers[customer_id][\"orders\"]:\n",
    "        customers[customer_id][\"orders\"][order_id] = {\n",
    "            \"order_status\": row[\"order_status\"],\n",
    "            \"purchase_timestamp\": row[\"order_purchase_timestamp\"],\n",
    "            \"approved_at\": row[\"order_approved_at\"],\n",
    "            \"delivered_carrier_date\": row[\"order_delivered_carrier_date\"],\n",
    "            \"delivered_customer_date\": row[\"order_delivered_customer_date\"],\n",
    "            \"estimated_delivery_date\": row[\"order_estimated_delivery_date\"],\n",
    "            \"items\": [],\n",
    "            \"review\": {\n",
    "                \"review_id\": row[\"review_id\"],            \n",
    "                \"review_score\": row[\"review_score\"],                  \n",
    "                \"review_comment_title\": row[\"review_comment_title\"],\n",
    "                \"review_comment_message\": row[\"review_comment_message\"],\n",
    "                \"review_creation_date\": row[\"review_creation_date\"], \n",
    "                \"review_answer_timestamp\": row[\"review_answer_timestamp\"],\n",
    "            },\n",
    "        }\n",
    "        \n",
    "    # Adicionar informações do item ao pedido\n",
    "    customers[customer_id][\"orders\"][order_id][\"items\"].append({\n",
    "        \"product_category_name\": row[\"product_category_name\"],\n",
    "        \"product_name_lenght\": row[\"product_name_lenght\"],\n",
    "        \"product_description_lenght\": row[\"product_description_lenght\"],\n",
    "        \"product_photos_qty\": row[\"product_photos_qty\"],\n",
    "        \"product_weight_g\": row[\"product_weight_g\"],\n",
    "        \"product_length_cm\": row[\"product_length_cm\"],\n",
    "        \"product_height_cm\": row[\"product_height_cm\"],\n",
    "        \"product_width_cm\": row[\"product_width_cm\"],\n",
    "        \"order_item_id\": row[\"order_item_id\"],\n",
    "        \"product_id\": product_id,\n",
    "        \"seller_id\": row[\"seller_id\"],\n",
    "        \"shipping_limit_date\": row[\"shipping_limit_date\"],\n",
    "        \"price\": row[\"price\"],\n",
    "        \"freight_value\": row[\"freight_value\"]\n",
    "    })\n",
    "\n",
    "\n",
    "import json\n",
    "\n",
    "# A estrutura de dados que você criou\n",
    "data = {\n",
    "    \"customers\": customers,\n",
    "}\n",
    "\n",
    "with open('data_non_structured.json', 'w') as f:\n",
    "    for customer_id, customer_data in data[\"customers\"].items():\n",
    "        for order_id, order_data in customer_data[\"orders\"].items():\n",
    "            # Definindo o índice e o ID de acordo com a sua estrutura de dados\n",
    "            action = {\n",
    "                \"index\": {\n",
    "                    \"_index\": \"salles\",  # Nome do índice\n",
    "                    \"_id\": order_id  # Use o ID do pedido como _id\n",
    "                }\n",
    "            }\n",
    "            f.write(json.dumps(action) + '\\n')\n",
    "            f.write(json.dumps(order_data) + '\\n')"
   ]
  },
  {
   "cell_type": "code",
   "execution_count": null,
   "id": "547234eb-9b2a-4be6-92db-0ee949d82607",
   "metadata": {},
   "outputs": [],
   "source": []
  },
  {
   "cell_type": "code",
   "execution_count": null,
   "id": "91c593ef-57a7-452b-a816-49b69f19c90d",
   "metadata": {},
   "outputs": [],
   "source": []
  },
  {
   "cell_type": "code",
   "execution_count": null,
   "id": "e086f383-3354-4699-8f78-33717fe4da1e",
   "metadata": {},
   "outputs": [],
   "source": []
  },
  {
   "cell_type": "code",
   "execution_count": null,
   "id": "652ec83c-2e46-4738-b447-bd191aa4dd26",
   "metadata": {},
   "outputs": [],
   "source": []
  },
  {
   "cell_type": "code",
   "execution_count": null,
   "id": "6a9a26d8-cf28-4811-b092-486caa5ccbe8",
   "metadata": {},
   "outputs": [],
   "source": []
  }
 ],
 "metadata": {
  "kernelspec": {
   "display_name": "Python 3 (ipykernel)",
   "language": "python",
   "name": "python3"
  },
  "language_info": {
   "codemirror_mode": {
    "name": "ipython",
    "version": 3
   },
   "file_extension": ".py",
   "mimetype": "text/x-python",
   "name": "python",
   "nbconvert_exporter": "python",
   "pygments_lexer": "ipython3",
   "version": "3.8.10"
  }
 },
 "nbformat": 4,
 "nbformat_minor": 5
}
